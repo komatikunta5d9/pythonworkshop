{
 "cells": [
  {
   "cell_type": "markdown",
   "metadata": {},
   "source": [
    "# MarkDown Documentation\n",
    "# Headings\n",
    "# Profile\n",
    "<img src=\"myname.jpg\" height=50px width=50px>\n",
    "#### Email\n",
    "\n",
    "[myemail](https://www.gmail.com)\n",
    "\n",
    "![alt text](myname.jpg)\n",
    "**Mounika**\n",
    "## Technical Skills\n",
    "\n",
    "+ PythonProgramming\n",
    "\n",
    "- DjangoFramework\n",
    "\n",
    "+ Flask\n",
    "\n",
    "### Personal Information\n",
    "\n",
    "1. Address\n",
    "    - Ongole\n",
    "3. District\n",
    "    + Prakasam\n",
    "2. Pincode\n",
    "    - 523001\n",
    "6. Country\n",
    "    + India\n",
    "#### Summary\n",
    "\n",
    "My Name is **mounika** my Home town *Ongole* my [Email](https://www.google.com) & ***My Profile*** <img src=\"myname.jpg\" height=50px width=50px>\n",
    "\n",
    "# Backtick\n",
    "\n",
    "`markdown`\n",
    "\n",
    "# BlockQuotes\n",
    "\n",
    "> welcome\n",
    "\n",
    ">how r u"
   ]
  },
  {
   "cell_type": "markdown",
   "metadata": {},
   "source": [
    "import keywords"
   ]
  },
  {
   "cell_type": "code",
   "execution_count": 1,
   "metadata": {
    "collapsed": true
   },
   "outputs": [
    {
     "ename": "NameError",
     "evalue": "name 'keyword' is not defined",
     "output_type": "error",
     "traceback": [
      "\u001b[1;31m---------------------------------------------------------------------------\u001b[0m",
      "\u001b[1;31mNameError\u001b[0m                                 Traceback (most recent call last)",
      "\u001b[1;32m<ipython-input-1-e95b2ef98bdd>\u001b[0m in \u001b[0;36m<module>\u001b[1;34m\u001b[0m\n\u001b[1;32m----> 1\u001b[1;33m \u001b[0mprint\u001b[0m\u001b[1;33m(\u001b[0m\u001b[0mkeyword\u001b[0m\u001b[1;33m.\u001b[0m\u001b[0mkwlist\u001b[0m\u001b[1;33m)\u001b[0m\u001b[1;33m\u001b[0m\u001b[1;33m\u001b[0m\u001b[0m\n\u001b[0m",
      "\u001b[1;31mNameError\u001b[0m: name 'keyword' is not defined"
     ]
    }
   ],
   "source": [
    "print(keyword.kwlist)"
   ]
  },
  {
   "cell_type": "code",
   "execution_count": 5,
   "metadata": {},
   "outputs": [
    {
     "data": {
      "text/plain": [
       "bool"
      ]
     },
     "execution_count": 5,
     "metadata": {},
     "output_type": "execute_result"
    }
   ],
   "source": [
    "#1.int\n",
    "#2.float\n",
    "#3.string\n",
    "#4.boolean\n",
    "#5.complex\n",
    "a = True\n",
    "name = 'abc'\n",
    "name1 = \"a\"\n",
    "type(name)\n",
    "type(name1)\n",
    "type(a)"
   ]
  },
  {
   "cell_type": "code",
   "execution_count": 6,
   "metadata": {},
   "outputs": [
    {
     "data": {
      "text/plain": [
       "(10+20j)"
      ]
     },
     "execution_count": 6,
     "metadata": {},
     "output_type": "execute_result"
    }
   ],
   "source": [
    "c= complex(10,20)\n",
    "c"
   ]
  },
  {
   "cell_type": "code",
   "execution_count": 10,
   "metadata": {},
   "outputs": [
    {
     "data": {
      "text/plain": [
       "10"
      ]
     },
     "execution_count": 10,
     "metadata": {},
     "output_type": "execute_result"
    }
   ],
   "source": [
    "a='10.9'\n",
    "b=int(float(a))\n",
    "b"
   ]
  },
  {
   "cell_type": "code",
   "execution_count": 12,
   "metadata": {},
   "outputs": [
    {
     "name": "stdout",
     "output_type": "stream",
     "text": [
      "addition of two numbers is :  30\n"
     ]
    }
   ],
   "source": [
    "a,b=10,20\n",
    "print(\"addition of two numbers is : \",a+b)"
   ]
  },
  {
   "cell_type": "code",
   "execution_count": 14,
   "metadata": {},
   "outputs": [
    {
     "name": "stdout",
     "output_type": "stream",
     "text": [
      "enter a value:2\n",
      "enter b value:6\n",
      "2 6\n"
     ]
    }
   ],
   "source": [
    "a=int(input('enter a value:'))\n",
    "b=int(input('enter b value:'))\n",
    "print(a,b)"
   ]
  },
  {
   "cell_type": "code",
   "execution_count": null,
   "metadata": {},
   "outputs": [],
   "source": [
    "a=int(input('enter a value:'))\n",
    "b=int(input('enter b value:'))\n"
   ]
  },
  {
   "cell_type": "code",
   "execution_count": null,
   "metadata": {},
   "outputs": [],
   "source": []
  },
  {
   "cell_type": "code",
   "execution_count": null,
   "metadata": {},
   "outputs": [],
   "source": []
  }
 ],
 "metadata": {
  "kernelspec": {
   "display_name": "Python 3",
   "language": "python",
   "name": "python3"
  },
  "language_info": {
   "codemirror_mode": {
    "name": "ipython",
    "version": 3
   },
   "file_extension": ".py",
   "mimetype": "text/x-python",
   "name": "python",
   "nbconvert_exporter": "python",
   "pygments_lexer": "ipython3",
   "version": "3.7.3"
  }
 },
 "nbformat": 4,
 "nbformat_minor": 2
}
