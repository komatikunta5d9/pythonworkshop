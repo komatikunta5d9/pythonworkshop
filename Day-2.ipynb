{
 "cells": [
  {
   "cell_type": "markdown",
   "metadata": {},
   "source": [
    "# To Day Agenda\n",
    "\n",
    "+ Execution of commands in python shell\n",
    "- Data Types\n",
    "    + int\n",
    "    + float\n",
    "    + bool\n",
    "    - complex\n",
    "    + str\n",
    "    \n",
    "+ I/P And O/P\n",
    "\n",
    "+ Program Execution in idle\n",
    "\n",
    "- Program Execution in Command Prompt"
   ]
  },
  {
   "cell_type": "code",
   "execution_count": null,
   "metadata": {},
   "outputs": [],
   "source": [
    "+ Git Hub Account Creation"
   ]
  }
 ],
 "metadata": {
  "kernelspec": {
   "display_name": "Python 3",
   "language": "python",
   "name": "python3"
  },
  "language_info": {
   "codemirror_mode": {
    "name": "ipython",
    "version": 3
   },
   "file_extension": ".py",
   "mimetype": "text/x-python",
   "name": "python",
   "nbconvert_exporter": "python",
   "pygments_lexer": "ipython3",
   "version": "3.7.3"
  }
 },
 "nbformat": 4,
 "nbformat_minor": 2
}
