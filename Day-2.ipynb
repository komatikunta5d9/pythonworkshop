{
 "cells": [
  {
   "cell_type": "markdown",
   "metadata": {},
   "source": [
    "# To Day Agenda\n",
    "\n",
    "+ Execution of commands in python shell\n",
    "- Data Types\n",
    "    + int\n",
    "    + float\n",
    "    + bool\n",
    "    - complex\n",
    "    + str\n",
    "    \n",
    "+ I/P And O/P\n",
    "\n",
    "+ Program Execution in idle\n",
    "\n",
    "- Program Execution in Command Prompt"
   ]
  },
  {
   "cell_type": "code",
   "execution_count": null,
   "metadata": {},
   "outputs": [],
   "source": [
    "+ Git Hub Account Creation"
   ]
  },
  {
   "cell_type": "code",
   "execution_count": null,
   "metadata": {},
   "outputs": [],
   "source": [
    "a=10\n",
    "b=20\n",
    "print(a+b)\n",
    "print(a-b)\n",
    "print(a*b)\n",
    "print(a/b)\n",
    "print(a//b)#floating\n",
    "print(a**b)#integer\n",
    "print(a%b)\n"
   ]
  },
  {
   "cell_type": "code",
   "execution_count": null,
   "metadata": {},
   "outputs": [],
   "source": []
  },
  {
   "cell_type": "code",
   "execution_count": null,
   "metadata": {},
   "outputs": [],
   "source": [
    "# Logical operator\n",
    "\n",
    "print(False and False)\n",
    "print(False and True)\n",
    "print(True and False)\n",
    "print(True and True)\n"
   ]
  },
  {
   "cell_type": "code",
   "execution_count": null,
   "metadata": {},
   "outputs": [],
   "source": [
    "#Logical operators\n",
    "\n",
    "print(False or False)\n",
    "print(False or True)\n",
    "print(True or False)\n",
    "print(True or True)"
   ]
  },
  {
   "cell_type": "code",
   "execution_count": null,
   "metadata": {},
   "outputs": [],
   "source": [
    "# not with and\n",
    "\n",
    "print(not(False and False))\n",
    "print(not(False and True))\n",
    "print(not(True and False))\n",
    "print(not(True and True))\n"
   ]
  },
  {
   "cell_type": "code",
   "execution_count": null,
   "metadata": {},
   "outputs": [],
   "source": [
    "print(10>9 and 5<4)\n",
    "print(10==10 and 9!=9)\n",
    "print(9!=5 or 5==5)\n",
    "print(not(100>99 and 50<20))"
   ]
  },
  {
   "cell_type": "code",
   "execution_count": null,
   "metadata": {},
   "outputs": [],
   "source": [
    "# Assignment Operator\n",
    "\n",
    "a=5\n",
    "a+=5\n",
    "a-=6\n",
    "a*=4\n",
    "a/=8\n",
    "a"
   ]
  },
  {
   "cell_type": "code",
   "execution_count": null,
   "metadata": {},
   "outputs": [],
   "source": [
    "#Bit wise Operator & |,^\n",
    "\n",
    "2&2\n",
    "\n",
    "10 & 5\n",
    "\n",
    "11 | 6\n",
    "\n",
    "20^10\n",
    "\n",
    "ord('A')\n",
    "\n",
    "ord('a')\n",
    "\n",
    "chr(97)"
   ]
  },
  {
   "cell_type": "code",
   "execution_count": null,
   "metadata": {},
   "outputs": [],
   "source": [
    "# Membership in, not in\n",
    "s=\"Welcome to python workshop\"\n",
    "'to' in s\n",
    "\n",
    "'too' in s\n",
    "\n",
    "'work' not in s\n",
    "\n",
    "'workz' not in s\n",
    "\n"
   ]
  },
  {
   "cell_type": "code",
   "execution_count": null,
   "metadata": {},
   "outputs": [],
   "source": [
    "# Identity Operator is is not,==,!=\n",
    "\n",
    "n='hello'\n",
    "\n",
    "m='hello'\n",
    "\n",
    "n is not m"
   ]
  },
  {
   "cell_type": "code",
   "execution_count": null,
   "metadata": {},
   "outputs": [],
   "source": [
    "# Conditional Statements\n",
    "\n",
    "if elif else\n",
    "\n",
    "#syntax\n",
    "\n",
    "if(condition):\n",
    "    statements\n",
    "elif(condition):\n",
    "    statements\n",
    "else:\n",
    "    statements"
   ]
  },
  {
   "cell_type": "code",
   "execution_count": null,
   "metadata": {},
   "outputs": [],
   "source": [
    "n=int(input('enter the number:-'))\n",
    "if n%2==0:\n",
    "    print(n,'Even Number')\n",
    "else:\n",
    "    print(n,'Odd Number')"
   ]
  },
  {
   "cell_type": "code",
   "execution_count": null,
   "metadata": {},
   "outputs": [],
   "source": [
    "# Iteration \n",
    "# For,while\n",
    "# syntax\n",
    "\n",
    "# for variable in range(inclusive,exclusive,step)\n",
    "     print(Variablename)"
   ]
  },
  {
   "cell_type": "code",
   "execution_count": null,
   "metadata": {},
   "outputs": [],
   "source": [
    "for temp in range(10):\n",
    "    print(temp)"
   ]
  },
  {
   "cell_type": "code",
   "execution_count": null,
   "metadata": {},
   "outputs": [],
   "source": [
    "for i in range(1,100+1):\n",
    "    print(i)"
   ]
  },
  {
   "cell_type": "code",
   "execution_count": null,
   "metadata": {},
   "outputs": [],
   "source": [
    "for i in range(1,100+1):\n",
    "    print(i,end=\" \")"
   ]
  },
  {
   "cell_type": "code",
   "execution_count": null,
   "metadata": {},
   "outputs": [],
   "source": [
    "for i in range(1,100+1):\n",
    "    print(i,end=\"-->\")"
   ]
  },
  {
   "cell_type": "code",
   "execution_count": null,
   "metadata": {},
   "outputs": [],
   "source": [
    "for rev in range(100,0,-1):\n",
    "    print(rev,end=\" \")"
   ]
  },
  {
   "cell_type": "code",
   "execution_count": null,
   "metadata": {},
   "outputs": [],
   "source": [
    "for even in range(0,50+1,2):\n",
    "    print(even,end=\" \")"
   ]
  },
  {
   "cell_type": "code",
   "execution_count": null,
   "metadata": {},
   "outputs": [],
   "source": [
    "num=int(input('Enter Table:-'))\n",
    "for i in range(1,10+1):\n",
    "    print(num,'*',i,'=',num*i)"
   ]
  },
  {
   "cell_type": "code",
   "execution_count": null,
   "metadata": {},
   "outputs": [],
   "source": [
    "num=int(input('Enter Tables:-'))\n",
    "for num in range(1,5+1):\n",
    "for i in range(1,10+1):\n",
    "    print(num,'*',i,'=',num*i)"
   ]
  },
  {
   "cell_type": "code",
   "execution_count": null,
   "metadata": {},
   "outputs": [],
   "source": [
    "# find Factorial number using forloop and whileloop"
   ]
  },
  {
   "cell_type": "code",
   "execution_count": null,
   "metadata": {},
   "outputs": [],
   "source": [
    "#Find Factors using forloop and whileloop"
   ]
  },
  {
   "cell_type": "code",
   "execution_count": null,
   "metadata": {},
   "outputs": [],
   "source": [
    "# While loop we can exicute a set of \n",
    "#statements condition is true.\n",
    "\n",
    "#while condition:\n",
    "    #statements\n",
    "    \n",
    "    #by using "
   ]
  },
  {
   "cell_type": "code",
   "execution_count": 7,
   "metadata": {},
   "outputs": [
    {
     "name": "stdout",
     "output_type": "stream",
     "text": [
      "1\n",
      "2\n",
      "3\n",
      "4\n",
      "5\n",
      "6\n",
      "7\n",
      "8\n",
      "9\n",
      "10\n",
      "11\n",
      "12\n",
      "13\n",
      "14\n",
      "15\n",
      "16\n",
      "17\n",
      "18\n",
      "19\n",
      "20\n"
     ]
    }
   ],
   "source": [
    "i=1\n",
    "while i<=20:\n",
    "    print(i)\n",
    "    i+=1"
   ]
  },
  {
   "cell_type": "code",
   "execution_count": null,
   "metadata": {},
   "outputs": [],
   "source": [
    "i=20\n",
    "while i>=1:\n",
    "    print(i)\n",
    "    i-=1"
   ]
  },
  {
   "cell_type": "code",
   "execution_count": 3,
   "metadata": {},
   "outputs": [
    {
     "name": "stdout",
     "output_type": "stream",
     "text": [
      "enter values6\n",
      "2 is even\n",
      "4 is even\n",
      "6 is even\n"
     ]
    }
   ],
   "source": [
    "# while condition using even numbers\n",
    " \n",
    "n=int(input('enter values'))\n",
    "i=1\n",
    "while i<=n:\n",
    "    if i%2==0:\n",
    "        print(i,'is even')\n",
    "     \n",
    "    i+=1\n",
    "    \n",
    "\n"
   ]
  },
  {
   "cell_type": "code",
   "execution_count": 6,
   "metadata": {},
   "outputs": [],
   "source": [
    "#jumping statements\n",
    "\n",
    "#break,continue pass\n",
    "\n",
    "s='hello'\n",
    "for i in s:\n",
    "    if i==\"1\":\n",
    "        break\n",
    "        print(i)"
   ]
  },
  {
   "cell_type": "code",
   "execution_count": null,
   "metadata": {},
   "outputs": [],
   "source": [
    "def name:\n",
    "    pass"
   ]
  },
  {
   "cell_type": "code",
   "execution_count": null,
   "metadata": {},
   "outputs": [],
   "source": [
    "# Function 3types\n",
    "\n",
    "# predefied\n",
    "\n",
    "# print,input,type,ord,chr,bin,sum,max,min,round,sorted,\n",
    "\n",
    "# user defined\n",
    "\n",
    "# special functions"
   ]
  },
  {
   "cell_type": "code",
   "execution_count": 1,
   "metadata": {},
   "outputs": [
    {
     "data": {
      "text/plain": [
       "100"
      ]
     },
     "execution_count": 1,
     "metadata": {},
     "output_type": "execute_result"
    }
   ],
   "source": [
    "a=\"python workshop\"\n",
    "b=[1,2,3,4,5]\n",
    "len(a)\n",
    "type(a)\n",
    "ord('z')\n",
    "bin(5)\n",
    "sum(b)\n",
    "max(a)\n",
    "min(a)\n",
    "round(10.30)\n",
    "sorted(a)\n",
    "all(a)\n",
    "any(a)\n",
    "abs(-1)\n",
    "pow(10,2)"
   ]
  },
  {
   "cell_type": "markdown",
   "metadata": {},
   "source": [
    "# Write a program to print the given user\n",
    "\n",
    "### Users can give the a-z and A-Z\n",
    "\n",
    "### User can give 0.9------->print digit\n",
    "\n",
    "### User can give the #,@,&------->special character"
   ]
  },
  {
   "cell_type": "code",
   "execution_count": 8,
   "metadata": {},
   "outputs": [
    {
     "name": "stdout",
     "output_type": "stream",
     "text": [
      "Enter the any kind of data:-hello1234\n",
      "hello1234 alphabet\n"
     ]
    }
   ],
   "source": [
    "data=input('Enter the any kind of data:-')\n",
    "if data>='a' and data<='z' or data >=\"A\" and data<='Z':\n",
    "    print(data,'alphabet')\n",
    "elif data>='0' and data<='9':\n",
    "    print(data, 'is digit')\n",
    "else:\n",
    "    print(data,'special character')\n",
    "    dig=data[0]\n",
    "    print(type(dig))\n",
    "    # if dig[0]=chr\n",
    "    # print('alphabet')\n"
   ]
  },
  {
   "cell_type": "code",
   "execution_count": 9,
   "metadata": {
    "scrolled": true
   },
   "outputs": [
    {
     "name": "stdout",
     "output_type": "stream",
     "text": [
      "enter u name:-sai\n",
      "get pwd:-········\n",
      "Welcome sai\n"
     ]
    }
   ],
   "source": [
    "from getpass import getpass\n",
    "uname=input('enter u name:-')\n",
    "pwd=getpass('get pwd:-')\n",
    "\n",
    "if uname==\"sai\" and pwd==\"sai@123\":\n",
    "    print('Welcome',uname)\n",
    "else:\n",
    "    print('Invalid uname or password')"
   ]
  },
  {
   "cell_type": "code",
   "execution_count": 10,
   "metadata": {},
   "outputs": [
    {
     "name": "stdout",
     "output_type": "stream",
     "text": [
      "Enter no of tables10\n",
      "Enter table multiples10\n",
      "1 * 1 = 1\n",
      "1 * 2 = 2\n",
      "1 * 3 = 3\n",
      "1 * 4 = 4\n",
      "1 * 5 = 5\n",
      "1 * 6 = 6\n",
      "1 * 7 = 7\n",
      "1 * 8 = 8\n",
      "1 * 9 = 9\n",
      "1 * 10 = 10\n",
      "\n",
      "\n",
      "2 * 1 = 2\n",
      "2 * 2 = 4\n",
      "2 * 3 = 6\n",
      "2 * 4 = 8\n",
      "2 * 5 = 10\n",
      "2 * 6 = 12\n",
      "2 * 7 = 14\n",
      "2 * 8 = 16\n",
      "2 * 9 = 18\n",
      "2 * 10 = 20\n",
      "\n",
      "\n",
      "3 * 1 = 3\n",
      "3 * 2 = 6\n",
      "3 * 3 = 9\n",
      "3 * 4 = 12\n",
      "3 * 5 = 15\n",
      "3 * 6 = 18\n",
      "3 * 7 = 21\n",
      "3 * 8 = 24\n",
      "3 * 9 = 27\n",
      "3 * 10 = 30\n",
      "\n",
      "\n",
      "4 * 1 = 4\n",
      "4 * 2 = 8\n",
      "4 * 3 = 12\n",
      "4 * 4 = 16\n",
      "4 * 5 = 20\n",
      "4 * 6 = 24\n",
      "4 * 7 = 28\n",
      "4 * 8 = 32\n",
      "4 * 9 = 36\n",
      "4 * 10 = 40\n",
      "\n",
      "\n",
      "5 * 1 = 5\n",
      "5 * 2 = 10\n",
      "5 * 3 = 15\n",
      "5 * 4 = 20\n",
      "5 * 5 = 25\n",
      "5 * 6 = 30\n",
      "5 * 7 = 35\n",
      "5 * 8 = 40\n",
      "5 * 9 = 45\n",
      "5 * 10 = 50\n",
      "\n",
      "\n",
      "6 * 1 = 6\n",
      "6 * 2 = 12\n",
      "6 * 3 = 18\n",
      "6 * 4 = 24\n",
      "6 * 5 = 30\n",
      "6 * 6 = 36\n",
      "6 * 7 = 42\n",
      "6 * 8 = 48\n",
      "6 * 9 = 54\n",
      "6 * 10 = 60\n",
      "\n",
      "\n",
      "7 * 1 = 7\n",
      "7 * 2 = 14\n",
      "7 * 3 = 21\n",
      "7 * 4 = 28\n",
      "7 * 5 = 35\n",
      "7 * 6 = 42\n",
      "7 * 7 = 49\n",
      "7 * 8 = 56\n",
      "7 * 9 = 63\n",
      "7 * 10 = 70\n",
      "\n",
      "\n",
      "8 * 1 = 8\n",
      "8 * 2 = 16\n",
      "8 * 3 = 24\n",
      "8 * 4 = 32\n",
      "8 * 5 = 40\n",
      "8 * 6 = 48\n",
      "8 * 7 = 56\n",
      "8 * 8 = 64\n",
      "8 * 9 = 72\n",
      "8 * 10 = 80\n",
      "\n",
      "\n",
      "9 * 1 = 9\n",
      "9 * 2 = 18\n",
      "9 * 3 = 27\n",
      "9 * 4 = 36\n",
      "9 * 5 = 45\n",
      "9 * 6 = 54\n",
      "9 * 7 = 63\n",
      "9 * 8 = 72\n",
      "9 * 9 = 81\n",
      "9 * 10 = 90\n",
      "\n",
      "\n",
      "10 * 1 = 10\n",
      "10 * 2 = 20\n",
      "10 * 3 = 30\n",
      "10 * 4 = 40\n",
      "10 * 5 = 50\n",
      "10 * 6 = 60\n",
      "10 * 7 = 70\n",
      "10 * 8 = 80\n",
      "10 * 9 = 90\n",
      "10 * 10 = 100\n",
      "\n",
      "\n"
     ]
    }
   ],
   "source": [
    "t=int(input('Enter no of tables'))\n",
    "m=int(input('Enter table multiples'))\n",
    "for i in range(1,t+1):\n",
    "    for j in range(1,m+1):\n",
    "        print(i,'*',j,'=',i*j)\n",
    "    print('\\n')"
   ]
  },
  {
   "cell_type": "code",
   "execution_count": 11,
   "metadata": {},
   "outputs": [
    {
     "name": "stdout",
     "output_type": "stream",
     "text": [
      "Enter no of tables10\n",
      "Enter table multiples10\n",
      "1 * 1 = 1\t1 * 2 = 2\t1 * 3 = 3\t1 * 4 = 4\t1 * 5 = 5\t1 * 6 = 6\t1 * 7 = 7\t1 * 8 = 8\t1 * 9 = 9\t1 * 10 = 10\t\n",
      "\n",
      "2 * 1 = 2\t2 * 2 = 4\t2 * 3 = 6\t2 * 4 = 8\t2 * 5 = 10\t2 * 6 = 12\t2 * 7 = 14\t2 * 8 = 16\t2 * 9 = 18\t2 * 10 = 20\t\n",
      "\n",
      "3 * 1 = 3\t3 * 2 = 6\t3 * 3 = 9\t3 * 4 = 12\t3 * 5 = 15\t3 * 6 = 18\t3 * 7 = 21\t3 * 8 = 24\t3 * 9 = 27\t3 * 10 = 30\t\n",
      "\n",
      "4 * 1 = 4\t4 * 2 = 8\t4 * 3 = 12\t4 * 4 = 16\t4 * 5 = 20\t4 * 6 = 24\t4 * 7 = 28\t4 * 8 = 32\t4 * 9 = 36\t4 * 10 = 40\t\n",
      "\n",
      "5 * 1 = 5\t5 * 2 = 10\t5 * 3 = 15\t5 * 4 = 20\t5 * 5 = 25\t5 * 6 = 30\t5 * 7 = 35\t5 * 8 = 40\t5 * 9 = 45\t5 * 10 = 50\t\n",
      "\n",
      "6 * 1 = 6\t6 * 2 = 12\t6 * 3 = 18\t6 * 4 = 24\t6 * 5 = 30\t6 * 6 = 36\t6 * 7 = 42\t6 * 8 = 48\t6 * 9 = 54\t6 * 10 = 60\t\n",
      "\n",
      "7 * 1 = 7\t7 * 2 = 14\t7 * 3 = 21\t7 * 4 = 28\t7 * 5 = 35\t7 * 6 = 42\t7 * 7 = 49\t7 * 8 = 56\t7 * 9 = 63\t7 * 10 = 70\t\n",
      "\n",
      "8 * 1 = 8\t8 * 2 = 16\t8 * 3 = 24\t8 * 4 = 32\t8 * 5 = 40\t8 * 6 = 48\t8 * 7 = 56\t8 * 8 = 64\t8 * 9 = 72\t8 * 10 = 80\t\n",
      "\n",
      "9 * 1 = 9\t9 * 2 = 18\t9 * 3 = 27\t9 * 4 = 36\t9 * 5 = 45\t9 * 6 = 54\t9 * 7 = 63\t9 * 8 = 72\t9 * 9 = 81\t9 * 10 = 90\t\n",
      "\n",
      "10 * 1 = 10\t10 * 2 = 20\t10 * 3 = 30\t10 * 4 = 40\t10 * 5 = 50\t10 * 6 = 60\t10 * 7 = 70\t10 * 8 = 80\t10 * 9 = 90\t10 * 10 = 100\t\n",
      "\n"
     ]
    }
   ],
   "source": [
    "t=int(input('Enter no of tables'))\n",
    "m=int(input('Enter table multiples'))\n",
    "for i in range(1,t+1):\n",
    "    for j in range(1,m+1):\n",
    "        print(i,'*',j,'=',i*j,end=\"\\t\")\n",
    "    print('\\n')"
   ]
  },
  {
   "cell_type": "code",
   "execution_count": 13,
   "metadata": {},
   "outputs": [
    {
     "name": "stdout",
     "output_type": "stream",
     "text": [
      "Enter Value6\n",
      "1\n",
      "1\n",
      "2\n",
      "2\n",
      "3\n",
      "6\n",
      "4\n",
      "24\n",
      "5\n",
      "120\n",
      "6\n",
      "720\n"
     ]
    }
   ],
   "source": [
    "# Find Factorial number using forloop and whileloop\n",
    "num= int(input('Enter Value'))\n",
    "i=1\n",
    "for fact in range(1,num+1):\n",
    "    i=i*fact\n",
    "    print(fact)\n",
    "    print(i)"
   ]
  },
  {
   "cell_type": "code",
   "execution_count": 17,
   "metadata": {},
   "outputs": [
    {
     "name": "stdout",
     "output_type": "stream",
     "text": [
      "enter value4\n",
      "1\n",
      "2\n",
      "4\n"
     ]
    }
   ],
   "source": [
    "# Find Factors numbers using forloop and whileloop\n",
    "n=int(input('enter value'))\n",
    "for f in range(1,n+1):\n",
    "    if n%f==0:\n",
    "        print(f)"
   ]
  },
  {
   "cell_type": "code",
   "execution_count": null,
   "metadata": {},
   "outputs": [],
   "source": []
  },
  {
   "cell_type": "code",
   "execution_count": null,
   "metadata": {},
   "outputs": [],
   "source": []
  }
 ],
 "metadata": {
  "kernelspec": {
   "display_name": "Python 3",
   "language": "python",
   "name": "python3"
  },
  "language_info": {
   "codemirror_mode": {
    "name": "ipython",
    "version": 3
   },
   "file_extension": ".py",
   "mimetype": "text/x-python",
   "name": "python",
   "nbconvert_exporter": "python",
   "pygments_lexer": "ipython3",
   "version": "3.7.3"
  }
 },
 "nbformat": 4,
 "nbformat_minor": 2
}
