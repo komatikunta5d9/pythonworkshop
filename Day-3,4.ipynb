{
 "cells": [
  {
   "cell_type": "markdown",
   "metadata": {},
   "source": [
    "# User defined Functions\n",
    "+ List\n",
    "+ Tuple\n",
    "+ Sets"
   ]
  },
  {
   "cell_type": "code",
   "execution_count": null,
   "metadata": {},
   "outputs": [],
   "source": [
    "# User defined\n",
    "\n",
    "# Function is a block of statements to perform particular task\n",
    "\n",
    "# Code reusability\n",
    "\n",
    "# Time will be saved\n",
    "\n",
    "# in python 'def' is a keyword\n",
    "\n",
    "# def functionname(arguments/parameters):\n",
    "\n",
    "#statements\n",
    "\n",
    "# calling function\n",
    "\n",
    "#functionname(arguments/parameters)"
   ]
  },
  {
   "cell_type": "code",
   "execution_count": null,
   "metadata": {},
   "outputs": [],
   "source": [
    "# with arguments with written returntype\n",
    "# without arguments with return type\n",
    "# without argument without return type\n",
    "# with arguments with returntype\n",
    "\n",
    "# required arguments/positional argument\n",
    "# keyword argument\n",
    "# default argument\n",
    "# variablelength argument"
   ]
  },
  {
   "cell_type": "code",
   "execution_count": null,
   "metadata": {},
   "outputs": [],
   "source": [
    "def sample():\n",
    "    print('welcome')\n",
    "print('python workshop')\n",
    "sample()\n"
   ]
  },
  {
   "cell_type": "code",
   "execution_count": null,
   "metadata": {},
   "outputs": [],
   "source": [
    "def sample():\n",
    "    pass\n",
    "print('python workshop')\n",
    "sample()\n"
   ]
  },
  {
   "cell_type": "code",
   "execution_count": null,
   "metadata": {},
   "outputs": [],
   "source": [
    "# with argument with return type \n",
    "def add(a,b):\n",
    "    c=a+b\n",
    "    return ('add of two num is',c)\n",
    "add(10,20)"
   ]
  },
  {
   "cell_type": "code",
   "execution_count": null,
   "metadata": {},
   "outputs": [],
   "source": [
    "# without arguments with return type\n",
    "def sub():\n",
    "    a=20\n",
    "    b=30\n",
    "    return a-b\n",
    "sub()"
   ]
  },
  {
   "cell_type": "code",
   "execution_count": null,
   "metadata": {},
   "outputs": [],
   "source": [
    "#  without argument without return type\n",
    "def mul():\n",
    "    n=10\n",
    "    m=20\n",
    "    print('Multiplication of %d * %d=%d'%(n,m,n*m))\n",
    "mul()"
   ]
  },
  {
   "cell_type": "code",
   "execution_count": null,
   "metadata": {},
   "outputs": [],
   "source": [
    "# with arguments without return type\n",
    "\n",
    "def div(p,q):\n",
    "    print(p/q)\n",
    "div(10,20)"
   ]
  },
  {
   "cell_type": "code",
   "execution_count": null,
   "metadata": {},
   "outputs": [],
   "source": [
    "def sum1(a,b):\n",
    "    return 'sum of %d + %d = %d'%(a,b,a+b)\n",
    "a=int(input('enter value'))\n",
    "b=int(input('enter value'))\n",
    "sum1(a,b)"
   ]
  },
  {
   "cell_type": "code",
   "execution_count": null,
   "metadata": {},
   "outputs": [],
   "source": [
    "# required /positional argument\n",
    "\n",
    "def interest(p,t,r):\n",
    "    total=p*t*r/100\n",
    "      return total\n",
    "p=int(input('enter principle amt'))\n",
    "t=float(input('enter time:-'))\n",
    "r=float(input('enter rate value:-'))\n",
    "interest(p,t,r)"
   ]
  },
  {
   "cell_type": "code",
   "execution_count": null,
   "metadata": {},
   "outputs": [],
   "source": [
    "# keyword argument\n",
    "def simple(p,t,r):\n",
    "    total=p*t*r/100\n",
    "    return total\n",
    "p=int(input('enter principal emt'))\n",
    "t=int(input('enter time:-'))\n",
    "r=int(input('enter rate:-'))\n",
    "simple(t=2.0,r=1.50,p=10000)# static\n",
    "simple(t=t,r=r,p=p) # dynamic\n"
   ]
  },
  {
   "cell_type": "code",
   "execution_count": null,
   "metadata": {},
   "outputs": [],
   "source": [
    "# default argument\n",
    "def simple1(p=10000,t=2.0,r=3.0):\n",
    "    print(p*t*r/100)\n",
    "#simple1()\n",
    "simple1(p=2000)"
   ]
  },
  {
   "cell_type": "code",
   "execution_count": null,
   "metadata": {},
   "outputs": [],
   "source": [
    "# variable length argument\n",
    "def var_sum(*a):\n",
    "    s=0\n",
    "    for i in a:\n",
    "        s+=i\n",
    "        #print(s+=1)\n",
    "        print(s)\n",
    "var_sum(1,2,3,4,5,6)\n"
   ]
  },
  {
   "cell_type": "code",
   "execution_count": null,
   "metadata": {},
   "outputs": [],
   "source": [
    "# strings\n",
    "\"\"\"\n",
    "---->Collection of character is called string\n",
    "\n",
    "---->Group of characters is called a string\n",
    "\n",
    "---->in python string representation is \" or \"\" or \"\"\"\n",
    "\n",
    "---->in python string immutable \n",
    "\n",
    "---->in python string is indexed value based\n",
    "\n",
    "---->string supports slicing operator--->':'\n",
    "\"\"\"\n",
    "a=''' '''\n",
    "print(type(a))\n",
    "\n",
    "a=\"welcome to python\"\n",
    "print(a)\n",
    "\n",
    "# concatenation of string\n",
    "\n",
    "b='workshop'\n",
    "print(a+b) # a+= 'hello'\n",
    "\n",
    "\n",
    "# getting values\n",
    "print(a[0])\n",
    "print(a[0])\n",
    "\n",
    "#forwardindex and backword index\n"
   ]
  },
  {
   "cell_type": "code",
   "execution_count": null,
   "metadata": {},
   "outputs": [],
   "source": [
    "a=''' '''\n",
    "print(type(a))"
   ]
  },
  {
   "cell_type": "code",
   "execution_count": null,
   "metadata": {},
   "outputs": [],
   "source": [
    "a=\"welcome to python\"\n",
    "print(a)"
   ]
  },
  {
   "cell_type": "code",
   "execution_count": null,
   "metadata": {},
   "outputs": [],
   "source": [
    "# concatenation of string\n",
    "\n",
    "b='workshop'\n",
    "print(a+b) # a+= 'hello'"
   ]
  },
  {
   "cell_type": "code",
   "execution_count": null,
   "metadata": {},
   "outputs": [],
   "source": [
    "# getting values\n",
    "print(a[0])\n",
    "print(a[0])"
   ]
  },
  {
   "cell_type": "code",
   "execution_count": null,
   "metadata": {},
   "outputs": [],
   "source": []
  },
  {
   "cell_type": "code",
   "execution_count": null,
   "metadata": {},
   "outputs": [],
   "source": [
    "#  Backword index\n",
    "s=\"welcome to python\"\n",
    "print(s[-1])\n",
    "print(s[-5])\n"
   ]
  },
  {
   "cell_type": "code",
   "execution_count": null,
   "metadata": {},
   "outputs": [],
   "source": [
    "# slicing operation-->:\n",
    "\n",
    "name='python programming'\n",
    "#print(name[:])\n",
    "#print(name[0.6])\n",
    "#print(name[4.6])\n",
    "#print(name[::-1])\n",
    "#print(name[0:17:2])\n",
    "#print(name[6:7])\n",
    "print(name[0:])"
   ]
  },
  {
   "cell_type": "code",
   "execution_count": null,
   "metadata": {},
   "outputs": [],
   "source": [
    "# String Methods 3 ways\n",
    "\n",
    "# by using datatype--->str\n",
    "#print(dir(str))\n",
    "#n=''\n",
    "#print(dir(n))\n",
    "\n",
    "m='hello'\n",
    "print(dir(m))\n"
   ]
  },
  {
   "cell_type": "code",
   "execution_count": null,
   "metadata": {
    "scrolled": false
   },
   "outputs": [],
   "source": [
    "p='welcome to apssdc'\n",
    "#print(p.capitalize())\n",
    "#print(p.casefold())\n",
    "#print(p.swapcase())\n",
    "#print(p.count('s'))\n",
    "#print(p.index('p'))\n",
    "#print(p.find('x'))\n",
    "#print(p.center(100))\n",
    "#print(p.center(20,'*'))\n",
    "#print('My name is{0}' & i am from{1}'.format(abc,xyz))\n",
    "#print(p.upper())\n",
    "#print(p.lower())\n",
    "#print(p.title())\n",
    "#print(p.isupper())\n",
    "#print(p.islower())\n",
    "#print(p.startswith('w'))\n",
    "#print(p.endswith('c'))\n",
    "#print(p.islittle())\n",
    "#q='<--'\n",
    "#print(q.join(p))\n",
    "#print(p.isdigit())\n",
    "#print(p.isalpha())\n",
    "#print(.isalnum())\n",
    "print('python\\tprogramming\\tworkshop'.expandtabs())\n"
   ]
  },
  {
   "cell_type": "code",
   "execution_count": null,
   "metadata": {},
   "outputs": [],
   "source": [
    "#'''split,\n",
    "#splitlines\n",
    "#lstrip,\n",
    "\n",
    "p='welcome to apssdc'\n",
    "print(p.lstrip())\n",
    "print(p.rstrip())"
   ]
  },
  {
   "cell_type": "code",
   "execution_count": null,
   "metadata": {},
   "outputs": [],
   "source": [
    "# Data structures concepts\n",
    "\n",
    "# List\n",
    "# Tuple\n",
    "# Dictionary\n",
    "# Sets"
   ]
  },
  {
   "cell_type": "code",
   "execution_count": null,
   "metadata": {},
   "outputs": [],
   "source": [
    "# Lists\n",
    "# List is a collection of hetrogeneous data elements\n",
    "# List is a mutable\n",
    "# List representation []\n",
    "# List supports slicing-->:\n",
    "\n",
    "# syntax\n",
    "\n",
    "#Variablename=[] "
   ]
  },
  {
   "cell_type": "code",
   "execution_count": null,
   "metadata": {},
   "outputs": [],
   "source": [
    "l1=[1,2,3,'hi','hello',10.25]\n",
    "l2=[4,5,'how are you']\n",
    "l3=l1+l2\n",
    "print(l3)"
   ]
  },
  {
   "cell_type": "code",
   "execution_count": null,
   "metadata": {},
   "outputs": [],
   "source": [
    "# Forward index\n",
    "#l3[3]\n",
    "#l3[6]\n",
    "\n",
    "# Backword index\n",
    "#l3[-1]\n",
    "#l3[-4]\n",
    "\n",
    "# list slicing\n",
    "\n",
    "l3[3:5]\n",
    "\n",
    "l3[::-1]\n",
    "l3[0:11:2]"
   ]
  },
  {
   "cell_type": "code",
   "execution_count": null,
   "metadata": {},
   "outputs": [],
   "source": [
    "# List Methods\n",
    "dir(list)\n",
    "\n",
    "# Append\n",
    "l3.append([11,12])\n",
    "\n",
    "l3.extend([13,13,15])\n",
    "l3"
   ]
  },
  {
   "cell_type": "code",
   "execution_count": null,
   "metadata": {},
   "outputs": [],
   "source": [
    "l3[11][0]\n"
   ]
  },
  {
   "cell_type": "code",
   "execution_count": null,
   "metadata": {},
   "outputs": [],
   "source": [
    "l3.count(1)"
   ]
  },
  {
   "cell_type": "code",
   "execution_count": null,
   "metadata": {},
   "outputs": [],
   "source": [
    "l3.index(5)"
   ]
  },
  {
   "cell_type": "code",
   "execution_count": null,
   "metadata": {},
   "outputs": [],
   "source": [
    "# Insert\n",
    "s=['a','o']\n",
    "\n",
    "s.insert(1,'e')\n",
    "s.insert(2,'i')\n",
    "s.insert(4,'u')\n",
    "s\n"
   ]
  },
  {
   "cell_type": "code",
   "execution_count": null,
   "metadata": {},
   "outputs": [],
   "source": [
    "#difference b/w pop,remove,del\n",
    "pop()--->last in firstout\n",
    "remove()--->value based\n",
    "del--->index value based"
   ]
  },
  {
   "cell_type": "code",
   "execution_count": null,
   "metadata": {},
   "outputs": [],
   "source": [
    "l3.pop()"
   ]
  },
  {
   "cell_type": "code",
   "execution_count": null,
   "metadata": {},
   "outputs": [],
   "source": [
    "l3.remove('hi')"
   ]
  },
  {
   "cell_type": "code",
   "execution_count": 1,
   "metadata": {},
   "outputs": [
    {
     "data": {
      "text/plain": [
       "[1, 1, 4, 4, 7, 8, 9]"
      ]
     },
     "execution_count": 1,
     "metadata": {},
     "output_type": "execute_result"
    }
   ],
   "source": [
    "# Sort\n",
    "l4=[4,7,8,1,4,9,1]\n",
    "l4.sort()\n",
    "l4"
   ]
  },
  {
   "cell_type": "code",
   "execution_count": 2,
   "metadata": {},
   "outputs": [
    {
     "data": {
      "text/plain": [
       "[1, 1, 4, 4, 7, 8, 9]"
      ]
     },
     "execution_count": 2,
     "metadata": {},
     "output_type": "execute_result"
    }
   ],
   "source": [
    "# Reverse\n",
    "l4.sort(reverse=False)\n",
    "l4.sort(reverse=False)\n",
    "l4"
   ]
  },
  {
   "cell_type": "code",
   "execution_count": 3,
   "metadata": {},
   "outputs": [
    {
     "ename": "NameError",
     "evalue": "name 'l3' is not defined",
     "output_type": "error",
     "traceback": [
      "\u001b[1;31m---------------------------------------------------------------------------\u001b[0m",
      "\u001b[1;31mNameError\u001b[0m                                 Traceback (most recent call last)",
      "\u001b[1;32m<ipython-input-3-042bd60990bf>\u001b[0m in \u001b[0;36m<module>\u001b[1;34m\u001b[0m\n\u001b[0;32m      1\u001b[0m \u001b[1;31m# Copy 1. =,2. copy method\u001b[0m\u001b[1;33m\u001b[0m\u001b[1;33m\u001b[0m\u001b[1;33m\u001b[0m\u001b[0m\n\u001b[1;32m----> 2\u001b[1;33m \u001b[0ml5\u001b[0m\u001b[1;33m=\u001b[0m\u001b[0ml3\u001b[0m\u001b[1;33m\u001b[0m\u001b[1;33m\u001b[0m\u001b[0m\n\u001b[0m\u001b[0;32m      3\u001b[0m \u001b[0ml3\u001b[0m\u001b[1;33m\u001b[0m\u001b[1;33m\u001b[0m\u001b[0m\n",
      "\u001b[1;31mNameError\u001b[0m: name 'l3' is not defined"
     ]
    }
   ],
   "source": [
    "# Copy 1. =,2. copy method\n",
    "l5=l3\n",
    "l3"
   ]
  },
  {
   "cell_type": "code",
   "execution_count": null,
   "metadata": {},
   "outputs": [],
   "source": [
    "# Tuples\n",
    "\n",
    "# tuples is a collection of heterogeneous data elements\n",
    "# tuple is immutable\n",
    "# tuple representation ()\n",
    "# tuples supports slicing-->:\n",
    "\n",
    "#syntax\n",
    "#variable=()"
   ]
  },
  {
   "cell_type": "code",
   "execution_count": 4,
   "metadata": {},
   "outputs": [],
   "source": [
    "tup=()\n",
    "#type(tup)"
   ]
  },
  {
   "cell_type": "code",
   "execution_count": 5,
   "metadata": {},
   "outputs": [],
   "source": [
    "tup=(1,2,'welcome','workshop',45.25,4,6)"
   ]
  },
  {
   "cell_type": "code",
   "execution_count": 6,
   "metadata": {},
   "outputs": [
    {
     "data": {
      "text/plain": [
       "(6, 4, 45.25, 'workshop', 'welcome', 2, 1)"
      ]
     },
     "execution_count": 6,
     "metadata": {},
     "output_type": "execute_result"
    }
   ],
   "source": [
    "tup[2]\n",
    "tup[5]\n",
    "\n",
    "tup[-2]\n",
    "tup[-5]\n",
    "\n",
    "tup[0:]\n",
    "tup[:]\n",
    "tup[::-1]"
   ]
  },
  {
   "cell_type": "code",
   "execution_count": 7,
   "metadata": {},
   "outputs": [
    {
     "data": {
      "text/plain": [
       "['__add__',\n",
       " '__class__',\n",
       " '__contains__',\n",
       " '__delattr__',\n",
       " '__dir__',\n",
       " '__doc__',\n",
       " '__eq__',\n",
       " '__format__',\n",
       " '__ge__',\n",
       " '__getattribute__',\n",
       " '__getitem__',\n",
       " '__getnewargs__',\n",
       " '__gt__',\n",
       " '__hash__',\n",
       " '__init__',\n",
       " '__init_subclass__',\n",
       " '__iter__',\n",
       " '__le__',\n",
       " '__len__',\n",
       " '__lt__',\n",
       " '__mul__',\n",
       " '__ne__',\n",
       " '__new__',\n",
       " '__reduce__',\n",
       " '__reduce_ex__',\n",
       " '__repr__',\n",
       " '__rmul__',\n",
       " '__setattr__',\n",
       " '__sizeof__',\n",
       " '__str__',\n",
       " '__subclasshook__',\n",
       " 'count',\n",
       " 'index']"
      ]
     },
     "execution_count": 7,
     "metadata": {},
     "output_type": "execute_result"
    }
   ],
   "source": [
    "#tuple methods\n",
    "dir(tup)"
   ]
  },
  {
   "cell_type": "code",
   "execution_count": 9,
   "metadata": {},
   "outputs": [
    {
     "name": "stdout",
     "output_type": "stream",
     "text": [
      "Ao0645\n",
      "Apssdc\n",
      "abc\n",
      "developer\n",
      "ongole\n"
     ]
    }
   ],
   "source": [
    "# packing & unpacking\n",
    "emp=('Ao0645','abc','developer','Apssdc','ongole')\n",
    "(eid,name,disg,comp,place)=emp\n",
    "\n",
    "print(eid)\n",
    "print(comp)\n",
    "print(name)\n",
    "print(disg)\n",
    "print(place)\n"
   ]
  },
  {
   "cell_type": "code",
   "execution_count": 10,
   "metadata": {},
   "outputs": [
    {
     "data": {
      "text/plain": [
       "(1, 2, 'welcome', 'workshop', 45.25, 4, 6)"
      ]
     },
     "execution_count": 10,
     "metadata": {},
     "output_type": "execute_result"
    }
   ],
   "source": [
    "tup"
   ]
  },
  {
   "cell_type": "code",
   "execution_count": null,
   "metadata": {},
   "outputs": [],
   "source": [
    "# Dictionary concept\n",
    "# Dictionary is a unordered collection of different data item\n",
    "# Dictionary we have two pairs those are key & value\n",
    "# Key is fixed\n",
    "# Value be change\n",
    "# Dictionary representation-->{}\n",
    "\n",
    "# syntax \n",
    "\n",
    "# Varname={kay:value}\n"
   ]
  },
  {
   "cell_type": "code",
   "execution_count": 11,
   "metadata": {},
   "outputs": [
    {
     "data": {
      "text/plain": [
       "dict"
      ]
     },
     "execution_count": 11,
     "metadata": {},
     "output_type": "execute_result"
    }
   ],
   "source": [
    "address={}\n",
    "type(address)\n"
   ]
  },
  {
   "cell_type": "code",
   "execution_count": 17,
   "metadata": {},
   "outputs": [
    {
     "data": {
      "text/plain": [
       "{'name': 'sai', 'place': 'ongole'}"
      ]
     },
     "execution_count": 17,
     "metadata": {},
     "output_type": "execute_result"
    }
   ],
   "source": [
    "address={'name':'sai','place':'ongole'}\n",
    "address"
   ]
  },
  {
   "cell_type": "code",
   "execution_count": 16,
   "metadata": {},
   "outputs": [
    {
     "data": {
      "text/plain": [
       "{'name': 'sai', 'place': 'ongole', 'pincode': 523001}"
      ]
     },
     "execution_count": 16,
     "metadata": {},
     "output_type": "execute_result"
    }
   ],
   "source": [
    "address['pincode']=523001\n",
    "address"
   ]
  },
  {
   "cell_type": "code",
   "execution_count": 18,
   "metadata": {},
   "outputs": [
    {
     "data": {
      "text/plain": [
       "['__class__',\n",
       " '__contains__',\n",
       " '__delattr__',\n",
       " '__delitem__',\n",
       " '__dir__',\n",
       " '__doc__',\n",
       " '__eq__',\n",
       " '__format__',\n",
       " '__ge__',\n",
       " '__getattribute__',\n",
       " '__getitem__',\n",
       " '__gt__',\n",
       " '__hash__',\n",
       " '__init__',\n",
       " '__init_subclass__',\n",
       " '__iter__',\n",
       " '__le__',\n",
       " '__len__',\n",
       " '__lt__',\n",
       " '__ne__',\n",
       " '__new__',\n",
       " '__reduce__',\n",
       " '__reduce_ex__',\n",
       " '__repr__',\n",
       " '__setattr__',\n",
       " '__setitem__',\n",
       " '__sizeof__',\n",
       " '__str__',\n",
       " '__subclasshook__',\n",
       " 'clear',\n",
       " 'copy',\n",
       " 'fromkeys',\n",
       " 'get',\n",
       " 'items',\n",
       " 'keys',\n",
       " 'pop',\n",
       " 'popitem',\n",
       " 'setdefault',\n",
       " 'update',\n",
       " 'values']"
      ]
     },
     "execution_count": 18,
     "metadata": {},
     "output_type": "execute_result"
    }
   ],
   "source": [
    "dir(dict)"
   ]
  },
  {
   "cell_type": "code",
   "execution_count": 19,
   "metadata": {},
   "outputs": [
    {
     "data": {
      "text/plain": [
       "dict_keys(['name', 'place'])"
      ]
     },
     "execution_count": 19,
     "metadata": {},
     "output_type": "execute_result"
    }
   ],
   "source": [
    "address.keys()"
   ]
  },
  {
   "cell_type": "code",
   "execution_count": 20,
   "metadata": {},
   "outputs": [
    {
     "data": {
      "text/plain": [
       "dict_values(['sai', 'ongole'])"
      ]
     },
     "execution_count": 20,
     "metadata": {},
     "output_type": "execute_result"
    }
   ],
   "source": [
    "address.values()"
   ]
  },
  {
   "cell_type": "code",
   "execution_count": 21,
   "metadata": {},
   "outputs": [
    {
     "data": {
      "text/plain": [
       "dict_items([('name', 'sai'), ('place', 'ongole')])"
      ]
     },
     "execution_count": 21,
     "metadata": {},
     "output_type": "execute_result"
    }
   ],
   "source": [
    "address.items()"
   ]
  },
  {
   "cell_type": "code",
   "execution_count": 24,
   "metadata": {},
   "outputs": [
    {
     "data": {
      "text/plain": [
       "'sai'"
      ]
     },
     "execution_count": 24,
     "metadata": {},
     "output_type": "execute_result"
    }
   ],
   "source": [
    "address.get('name')"
   ]
  },
  {
   "cell_type": "code",
   "execution_count": 25,
   "metadata": {},
   "outputs": [
    {
     "data": {
      "text/plain": [
       "('place', 'ongole')"
      ]
     },
     "execution_count": 25,
     "metadata": {},
     "output_type": "execute_result"
    }
   ],
   "source": [
    "address.popitem()"
   ]
  },
  {
   "cell_type": "code",
   "execution_count": null,
   "metadata": {},
   "outputs": [],
   "source": [
    "address['name']='sairam'"
   ]
  },
  {
   "cell_type": "code",
   "execution_count": 35,
   "metadata": {},
   "outputs": [
    {
     "data": {
      "text/plain": [
       "{'name': 'sai'}"
      ]
     },
     "execution_count": 35,
     "metadata": {},
     "output_type": "execute_result"
    }
   ],
   "source": [
    "address"
   ]
  },
  {
   "cell_type": "code",
   "execution_count": 36,
   "metadata": {},
   "outputs": [
    {
     "data": {
      "text/plain": [
       "[1,\n",
       " 3,\n",
       " 5,\n",
       " 7,\n",
       " 9,\n",
       " 11,\n",
       " 13,\n",
       " 15,\n",
       " 17,\n",
       " 19,\n",
       " 21,\n",
       " 23,\n",
       " 25,\n",
       " 27,\n",
       " 29,\n",
       " 31,\n",
       " 33,\n",
       " 35,\n",
       " 37,\n",
       " 39,\n",
       " 41,\n",
       " 43,\n",
       " 45,\n",
       " 47,\n",
       " 49]"
      ]
     },
     "execution_count": 36,
     "metadata": {},
     "output_type": "execute_result"
    }
   ],
   "source": [
    "# print (temp)\n",
    "d=[i for i in range(0,10)]\n",
    "d\n",
    "list(i for i in range (0,20+1))\n",
    "\n",
    "list(i for i in range (0,50+1) if i%2==0)\n",
    "\n",
    "list(i for i in range (0,50+1) if i%2==1)"
   ]
  },
  {
   "cell_type": "code",
   "execution_count": null,
   "metadata": {},
   "outputs": [],
   "source": [
    "# Regular Expressions\n",
    "\n",
    "# Package & Modules"
   ]
  },
  {
   "cell_type": "code",
   "execution_count": null,
   "metadata": {},
   "outputs": [],
   "source": [
    "# Regular Expressions \n",
    "\n",
    "# Regular expressions in nothing patterns\n",
    "\n",
    "# in regular expressions we can implement\n",
    "# password,email,phone number validation\n",
    "\n",
    "#\\d---->matches symbol\n",
    "#\\w---->except special symbol\n",
    "\n",
    "# we will use regular expressions we can import re module\n",
    "\n",
    "# methods are search,findall,match\n",
    "\n",
    "#syntax regular expression\n",
    "\n",
    "#modulename.methodname(pattern,value or variablename)"
   ]
  },
  {
   "cell_type": "code",
   "execution_count": 51,
   "metadata": {},
   "outputs": [
    {
     "data": {
      "text/plain": [
       "<re.Match object; span=(0, 10), match='8949066789'>"
      ]
     },
     "execution_count": 51,
     "metadata": {},
     "output_type": "execute_result"
    }
   ],
   "source": [
    "import re\n",
    "\n",
    "re.search('^k','knowledge&noviolance')\n",
    "\n",
    "re.search('e$','knowledge&noviolance')\n",
    "\n",
    "re.search('......','knowledge&noviolance')\n",
    "\n",
    "re.search('\\s','knowledge & noviolance')\n",
    "\n",
    "re.findall('\\s','knowledge & noviolance')\n",
    "\n",
    "re.findall('\\S','knowledge & noviolance')\n",
    "\n",
    "re.findall('\\d','12mala0558')\n",
    "\n",
    "re.findall('\\D','12mala0558')\n",
    "\n",
    "re.findall('\\W','rama.p@apssdc.in')\n",
    "\n",
    "re.findall('\\w','123rama_.p@apssdc.in')\n",
    "\n",
    "# Mobileno\n",
    "\n",
    "re.search('^[6-9][0-9]{9}$| ^[0][6-9][0-9]{9}$ | [+][9][1][6-9][0-9]{9}$','8949066789')"
   ]
  },
  {
   "cell_type": "code",
   "execution_count": null,
   "metadata": {},
   "outputs": [],
   "source": []
  },
  {
   "cell_type": "code",
   "execution_count": null,
   "metadata": {},
   "outputs": [],
   "source": []
  }
 ],
 "metadata": {
  "kernelspec": {
   "display_name": "Python 3",
   "language": "python",
   "name": "python3"
  },
  "language_info": {
   "codemirror_mode": {
    "name": "ipython",
    "version": 3
   },
   "file_extension": ".py",
   "mimetype": "text/x-python",
   "name": "python",
   "nbconvert_exporter": "python",
   "pygments_lexer": "ipython3",
   "version": "3.7.3"
  }
 },
 "nbformat": 4,
 "nbformat_minor": 2
}
